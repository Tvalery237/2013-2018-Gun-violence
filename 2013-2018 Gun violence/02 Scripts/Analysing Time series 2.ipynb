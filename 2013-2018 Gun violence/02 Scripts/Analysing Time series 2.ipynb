{
 "cells": [
  {
   "cell_type": "markdown",
   "id": "48d80640-6e15-4170-a8b5-dc0d40969192",
   "metadata": {},
   "source": [
    "# Importing Libraries"
   ]
  },
  {
   "cell_type": "code",
   "execution_count": 1,
   "id": "5f6b4a0f-9f7c-455a-96c8-8470b94d8b27",
   "metadata": {},
   "outputs": [],
   "source": [
    "import pandas as pd\n",
    "import numpy as np\n",
    "import seaborn as sns\n",
    "import matplotlib\n",
    "import matplotlib.pyplot as plt\n",
    "import os\n",
    "import statsmodels.api as sm\n",
    "import warnings\n",
    "\n",
    "\n",
    "warnings.filterwarnings(\"ignore\")\n",
    "\n",
    "plt.style.use('fivethirtyeight')"
   ]
  },
  {
   "cell_type": "markdown",
   "id": "972a4311-cc87-4a83-8c2d-f3c59d0e0465",
   "metadata": {},
   "source": [
    "### Importing data"
   ]
  },
  {
   "cell_type": "code",
   "execution_count": 2,
   "id": "09a56fa2-0a8f-4974-b62d-72199f21c23d",
   "metadata": {},
   "outputs": [],
   "source": [
    "# Importing dataframe\n",
    "path = r\"C:\\Users\\User\\Downloads\\df_cleaned.csv\""
   ]
  },
  {
   "cell_type": "code",
   "execution_count": 3,
   "id": "c09eb852-dcdc-426f-b6ba-c5f60afe9697",
   "metadata": {},
   "outputs": [],
   "source": [
    "# Load the data into a DataFrame\n",
    "df_cleaned = pd.read_csv(path)"
   ]
  },
  {
   "cell_type": "code",
   "execution_count": 4,
   "id": "2de9043a-4da8-482d-bf69-c28ae8539696",
   "metadata": {},
   "outputs": [
    {
     "data": {
      "text/html": [
       "<div>\n",
       "<style scoped>\n",
       "    .dataframe tbody tr th:only-of-type {\n",
       "        vertical-align: middle;\n",
       "    }\n",
       "\n",
       "    .dataframe tbody tr th {\n",
       "        vertical-align: top;\n",
       "    }\n",
       "\n",
       "    .dataframe thead th {\n",
       "        text-align: right;\n",
       "    }\n",
       "</style>\n",
       "<table border=\"1\" class=\"dataframe\">\n",
       "  <thead>\n",
       "    <tr style=\"text-align: right;\">\n",
       "      <th></th>\n",
       "      <th>incident_id</th>\n",
       "      <th>date</th>\n",
       "      <th>state</th>\n",
       "      <th>n_killed</th>\n",
       "      <th>n_injured</th>\n",
       "      <th>gun_stolen</th>\n",
       "      <th>gun_type</th>\n",
       "      <th>n_guns_involved</th>\n",
       "      <th>n_victims</th>\n",
       "      <th>n_suspects</th>\n",
       "    </tr>\n",
       "  </thead>\n",
       "  <tbody>\n",
       "    <tr>\n",
       "      <th>0</th>\n",
       "      <td>461105</td>\n",
       "      <td>2013-01-01</td>\n",
       "      <td>Pennsylvania</td>\n",
       "      <td>0</td>\n",
       "      <td>4</td>\n",
       "      <td>Unknown</td>\n",
       "      <td>Unknown</td>\n",
       "      <td>0.0</td>\n",
       "      <td>4</td>\n",
       "      <td>1</td>\n",
       "    </tr>\n",
       "    <tr>\n",
       "      <th>1</th>\n",
       "      <td>460726</td>\n",
       "      <td>2013-01-01</td>\n",
       "      <td>California</td>\n",
       "      <td>1</td>\n",
       "      <td>3</td>\n",
       "      <td>Unknown</td>\n",
       "      <td>Unknown</td>\n",
       "      <td>0.0</td>\n",
       "      <td>4</td>\n",
       "      <td>1</td>\n",
       "    </tr>\n",
       "    <tr>\n",
       "      <th>2</th>\n",
       "      <td>478855</td>\n",
       "      <td>2013-01-01</td>\n",
       "      <td>Ohio</td>\n",
       "      <td>1</td>\n",
       "      <td>3</td>\n",
       "      <td>0::Unknown||1::Unknown</td>\n",
       "      <td>0::Unknown||1::Unknown</td>\n",
       "      <td>2.0</td>\n",
       "      <td>3</td>\n",
       "      <td>2</td>\n",
       "    </tr>\n",
       "    <tr>\n",
       "      <th>3</th>\n",
       "      <td>478925</td>\n",
       "      <td>2013-01-05</td>\n",
       "      <td>Colorado</td>\n",
       "      <td>4</td>\n",
       "      <td>0</td>\n",
       "      <td>Unknown</td>\n",
       "      <td>Unknown</td>\n",
       "      <td>0.0</td>\n",
       "      <td>3</td>\n",
       "      <td>1</td>\n",
       "    </tr>\n",
       "    <tr>\n",
       "      <th>4</th>\n",
       "      <td>478959</td>\n",
       "      <td>2013-01-07</td>\n",
       "      <td>North Carolina</td>\n",
       "      <td>2</td>\n",
       "      <td>2</td>\n",
       "      <td>0::Unknown||1::Unknown</td>\n",
       "      <td>0::Handgun||1::Handgun</td>\n",
       "      <td>2.0</td>\n",
       "      <td>3</td>\n",
       "      <td>1</td>\n",
       "    </tr>\n",
       "  </tbody>\n",
       "</table>\n",
       "</div>"
      ],
      "text/plain": [
       "   incident_id        date           state  n_killed  n_injured  \\\n",
       "0       461105  2013-01-01    Pennsylvania         0          4   \n",
       "1       460726  2013-01-01      California         1          3   \n",
       "2       478855  2013-01-01            Ohio         1          3   \n",
       "3       478925  2013-01-05        Colorado         4          0   \n",
       "4       478959  2013-01-07  North Carolina         2          2   \n",
       "\n",
       "               gun_stolen                gun_type  n_guns_involved  n_victims  \\\n",
       "0                 Unknown                 Unknown              0.0          4   \n",
       "1                 Unknown                 Unknown              0.0          4   \n",
       "2  0::Unknown||1::Unknown  0::Unknown||1::Unknown              2.0          3   \n",
       "3                 Unknown                 Unknown              0.0          3   \n",
       "4  0::Unknown||1::Unknown  0::Handgun||1::Handgun              2.0          3   \n",
       "\n",
       "   n_suspects  \n",
       "0           1  \n",
       "1           1  \n",
       "2           2  \n",
       "3           1  \n",
       "4           1  "
      ]
     },
     "execution_count": 4,
     "metadata": {},
     "output_type": "execute_result"
    }
   ],
   "source": [
    "df_cleaned.head()"
   ]
  },
  {
   "cell_type": "code",
   "execution_count": 5,
   "id": "a31b2b61-b4a7-4656-a626-ea67a6c299db",
   "metadata": {},
   "outputs": [
    {
     "name": "stdout",
     "output_type": "stream",
     "text": [
      "<class 'pandas.core.frame.DataFrame'>\n",
      "RangeIndex: 239677 entries, 0 to 239676\n",
      "Data columns (total 10 columns):\n",
      " #   Column           Non-Null Count   Dtype  \n",
      "---  ------           --------------   -----  \n",
      " 0   incident_id      239677 non-null  int64  \n",
      " 1   date             239677 non-null  object \n",
      " 2   state            239677 non-null  object \n",
      " 3   n_killed         239677 non-null  int64  \n",
      " 4   n_injured        239677 non-null  int64  \n",
      " 5   gun_stolen       239677 non-null  object \n",
      " 6   gun_type         239677 non-null  object \n",
      " 7   n_guns_involved  239677 non-null  float64\n",
      " 8   n_victims        239677 non-null  int64  \n",
      " 9   n_suspects       239677 non-null  int64  \n",
      "dtypes: float64(1), int64(5), object(4)\n",
      "memory usage: 18.3+ MB\n"
     ]
    }
   ],
   "source": [
    "# Display information about the dataset\n",
    "df_cleaned.info()"
   ]
  },
  {
   "cell_type": "code",
   "execution_count": 6,
   "id": "04edec47-613a-41e8-9d34-1c3ff0231972",
   "metadata": {},
   "outputs": [
    {
     "data": {
      "text/plain": [
       "(239677, 10)"
      ]
     },
     "execution_count": 6,
     "metadata": {},
     "output_type": "execute_result"
    }
   ],
   "source": [
    "df_cleaned.shape"
   ]
  },
  {
   "cell_type": "code",
   "execution_count": 7,
   "id": "198c2024-2362-42ba-b6a2-111eb745576f",
   "metadata": {},
   "outputs": [
    {
     "data": {
      "text/plain": [
       "Index(['incident_id', 'date', 'state', 'n_killed', 'n_injured', 'gun_stolen',\n",
       "       'gun_type', 'n_guns_involved', 'n_victims', 'n_suspects'],\n",
       "      dtype='object')"
      ]
     },
     "execution_count": 7,
     "metadata": {},
     "output_type": "execute_result"
    }
   ],
   "source": [
    "df_cleaned.columns"
   ]
  },
  {
   "cell_type": "markdown",
   "id": "8d92526d-a09a-437b-9a1d-fb3dae84ccb6",
   "metadata": {},
   "source": [
    "### Creating subset"
   ]
  },
  {
   "cell_type": "code",
   "execution_count": 14,
   "id": "49b1531b-307a-432d-b250-2f261be702df",
   "metadata": {},
   "outputs": [],
   "source": [
    "# Retain only 'date' and 'n_killed' columns\n",
    "df = df_cleaned[['date', 'n_killed']]"
   ]
  },
  {
   "cell_type": "code",
   "execution_count": 16,
   "id": "0e549624-f042-48dd-bdba-d2bf1c84f3fa",
   "metadata": {},
   "outputs": [],
   "source": [
    "# Ensure the 'date' column is in datetime format\n",
    "df['date'] = pd.to_datetime(df['date'], errors='coerce')  # Convert to datetime, handling errors"
   ]
  },
  {
   "cell_type": "code",
   "execution_count": 17,
   "id": "94290760-3477-4c16-9ea6-68f78ec611d7",
   "metadata": {},
   "outputs": [],
   "source": [
    "# Create a 'month_year' column\n",
    "df['month_year'] = df['date'].dt.to_period('M')"
   ]
  },
  {
   "cell_type": "code",
   "execution_count": 18,
   "id": "ed084adc-f7c8-4f81-899f-629f6c30664d",
   "metadata": {},
   "outputs": [],
   "source": [
    "df['month_year'] = df['month_year'].dt.to_timestamp()"
   ]
  },
  {
   "cell_type": "code",
   "execution_count": 19,
   "id": "c61e5296-21e9-4c57-8b4b-5c873dcfb6ca",
   "metadata": {},
   "outputs": [],
   "source": [
    "df.drop(columns='date', inplace=True)"
   ]
  },
  {
   "cell_type": "code",
   "execution_count": 22,
   "id": "cee19ac9-d39c-4867-b697-c2fa1d47b4cc",
   "metadata": {},
   "outputs": [],
   "source": [
    "from statsmodels.tsa.seasonal import seasonal_decompose\n",
    "import matplotlib.pyplot as plt\n",
    "\n",
    "# Group by 'month_year' and aggregate the sum of 'n_killed'\n",
    "df = df.groupby(['month_year']).agg({'n_killed': 'sum'})"
   ]
  },
  {
   "cell_type": "code",
   "execution_count": 23,
   "id": "5ad17205-3371-4f90-8d0d-e174668521b6",
   "metadata": {},
   "outputs": [
    {
     "data": {
      "image/png": "[encoded data removed]",
      "text/plain": [
       "<Figure size 640x480 with 4 Axes>"
      ]
     },
     "metadata": {},
     "output_type": "display_data"
    }
   ],
   "source": [
    "# Perform seasonal decomposition\n",
    "result_mentions = seasonal_decompose(df['n_killed'], model='additive', period=12)\n",
    "\n",
    "# Plot the decomposition\n",
    "result_mentions.plot()\n",
    "plt.show()"
   ]
  },
  {
   "cell_type": "code",
   "execution_count": 24,
   "id": "e35452cf-4247-4ce8-8a5f-4558b4514386",
   "metadata": {},
   "outputs": [
    {
     "name": "stdout",
     "output_type": "stream",
     "text": [
      "Dickey-Fuller Stationarity Test:\n",
      "Test Statistic                -9.577716e+00\n",
      "p-value                        2.200454e-16\n",
      "Number of Lags Used            1.100000e+01\n",
      "Number of Observations Used    5.100000e+01\n",
      "Critical Value (1%)           -3.565624e+00\n",
      "Critical Value (5%)           -2.920142e+00\n",
      "Critical Value (10%)          -2.598015e+00\n",
      "dtype: float64\n"
     ]
    }
   ],
   "source": [
    "from statsmodels.tsa.stattools import adfuller\n",
    "import pandas as pd\n",
    "\n",
    "def dickey_fuller(timeseries): \n",
    "    print('Dickey-Fuller Stationarity Test:')\n",
    "    test = adfuller(timeseries, autolag='AIC')\n",
    "    result = pd.Series(test[0:4], index=['Test Statistic', 'p-value', 'Number of Lags Used', 'Number of Observations Used'])\n",
    "    for key, value in test[4].items():\n",
    "        result[f'Critical Value ({key})'] = value\n",
    "    print(result)\n",
    "\n",
    "# Apply the test on the time series\n",
    "dickey_fuller(df['n_killed'])"
   ]
  },
  {
   "cell_type": "code",
   "execution_count": null,
   "id": "07b5b41f-4abb-4982-9ed2-fc5709f3a93b",
   "metadata": {},
   "outputs": [],
   "source": []
  }
 ],
 "metadata": {
  "kernelspec": {
   "display_name": "Python 3 (ipykernel)",
   "language": "python",
   "name": "python3"
  },
  "language_info": {
   "codemirror_mode": {
    "name": "ipython",
    "version": 3
   },
   "file_extension": ".py",
   "mimetype": "text/x-python",
   "name": "python",
   "nbconvert_exporter": "python",
   "pygments_lexer": "ipython3",
   "version": "3.12.7"
  }
 },
 "nbformat": 4,
 "nbformat_minor": 5
}
