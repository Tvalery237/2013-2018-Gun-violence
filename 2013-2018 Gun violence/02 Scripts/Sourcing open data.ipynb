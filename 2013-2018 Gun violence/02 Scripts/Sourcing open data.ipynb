{
 "cells": [
  {
   "cell_type": "markdown",
   "id": "d78e749a-bbe7-4467-950c-2eb9c234747c",
   "metadata": {},
   "source": [
    "# Importing libraries"
   ]
  },
  {
   "cell_type": "code",
   "execution_count": 1,
   "id": "8000c4dc-6059-4e4a-a72e-613d5081b95b",
   "metadata": {},
   "outputs": [],
   "source": [
    "# import libraries\n",
    "import pandas as pd\n",
    "import numpy as np\n",
    "import os"
   ]
  },
  {
   "cell_type": "markdown",
   "id": "43823988-4dfd-4159-8dc2-2ebb50ceb9ce",
   "metadata": {},
   "source": [
    "# Importing data"
   ]
  },
  {
   "cell_type": "code",
   "execution_count": 2,
   "id": "cd1b7e99-e582-4095-9ea5-fc6197044b0a",
   "metadata": {},
   "outputs": [],
   "source": [
    "# Define path\n",
    "file_path = r\"C:\\Users\\User\\Downloads\\archive\\gun-violence-data_01-2013_03-2018.csv\""
   ]
  },
  {
   "cell_type": "code",
   "execution_count": 3,
   "id": "8a25f594-2af7-42e4-8cca-0f4bd17d726c",
   "metadata": {},
   "outputs": [],
   "source": [
    "# Load the data into a DataFrame\n",
    "df = pd.read_csv(file_path)"
   ]
  },
  {
   "cell_type": "code",
   "execution_count": 4,
   "id": "d965fb13-01c6-4a4f-a0bf-0160fccc2629",
   "metadata": {},
   "outputs": [
    {
     "name": "stdout",
     "output_type": "stream",
     "text": [
      "<class 'pandas.core.frame.DataFrame'>\n",
      "RangeIndex: 239677 entries, 0 to 239676\n",
      "Data columns (total 29 columns):\n",
      " #   Column                       Non-Null Count   Dtype  \n",
      "---  ------                       --------------   -----  \n",
      " 0   incident_id                  239677 non-null  int64  \n",
      " 1   date                         239677 non-null  object \n",
      " 2   state                        239677 non-null  object \n",
      " 3   city_or_county               239677 non-null  object \n",
      " 4   address                      223180 non-null  object \n",
      " 5   n_killed                     239677 non-null  int64  \n",
      " 6   n_injured                    239677 non-null  int64  \n",
      " 7   incident_url                 239677 non-null  object \n",
      " 8   source_url                   239209 non-null  object \n",
      " 9   incident_url_fields_missing  239677 non-null  bool   \n",
      " 10  congressional_district       227733 non-null  float64\n",
      " 11  gun_stolen                   140179 non-null  object \n",
      " 12  gun_type                     140226 non-null  object \n",
      " 13  incident_characteristics     239351 non-null  object \n",
      " 14  latitude                     231754 non-null  float64\n",
      " 15  location_description         42089 non-null   object \n",
      " 16  longitude                    231754 non-null  float64\n",
      " 17  n_guns_involved              140226 non-null  float64\n",
      " 18  notes                        158660 non-null  object \n",
      " 19  participant_age              147379 non-null  object \n",
      " 20  participant_age_group        197558 non-null  object \n",
      " 21  participant_gender           203315 non-null  object \n",
      " 22  participant_name             117424 non-null  object \n",
      " 23  participant_relationship     15774 non-null   object \n",
      " 24  participant_status           212051 non-null  object \n",
      " 25  participant_type             214814 non-null  object \n",
      " 26  sources                      239068 non-null  object \n",
      " 27  state_house_district         200905 non-null  float64\n",
      " 28  state_senate_district        207342 non-null  float64\n",
      "dtypes: bool(1), float64(6), int64(3), object(19)\n",
      "memory usage: 51.4+ MB\n"
     ]
    }
   ],
   "source": [
    "df.info()"
   ]
  },
  {
   "cell_type": "code",
   "execution_count": 5,
   "id": "6158f3fb-14ca-4b9f-9438-c894b430017f",
   "metadata": {},
   "outputs": [
    {
     "data": {
      "text/plain": [
       "incident_id                         0\n",
       "date                                0\n",
       "state                               0\n",
       "city_or_county                      0\n",
       "address                         16497\n",
       "n_killed                            0\n",
       "n_injured                           0\n",
       "incident_url                        0\n",
       "source_url                        468\n",
       "incident_url_fields_missing         0\n",
       "congressional_district          11944\n",
       "gun_stolen                      99498\n",
       "gun_type                        99451\n",
       "incident_characteristics          326\n",
       "latitude                         7923\n",
       "location_description           197588\n",
       "longitude                        7923\n",
       "n_guns_involved                 99451\n",
       "notes                           81017\n",
       "participant_age                 92298\n",
       "participant_age_group           42119\n",
       "participant_gender              36362\n",
       "participant_name               122253\n",
       "participant_relationship       223903\n",
       "participant_status              27626\n",
       "participant_type                24863\n",
       "sources                           609\n",
       "state_house_district            38772\n",
       "state_senate_district           32335\n",
       "dtype: int64"
      ]
     },
     "execution_count": 5,
     "metadata": {},
     "output_type": "execute_result"
    }
   ],
   "source": [
    "# missing values\n",
    "df.isnull().sum()"
   ]
  },
  {
   "cell_type": "code",
   "execution_count": 6,
   "id": "e49bfdf9-7500-4c80-8565-b5f0aff5f08f",
   "metadata": {},
   "outputs": [],
   "source": [
    "# Drop columns with over 80% missing data\n",
    "columns_to_drop = ['participant_relationship', 'location_description', 'participant_name', 'incident_url', 'source_url', 'sources', 'incident_characteristics', 'notes', 'incident_url_fields_missing' , 'location_description', 'latitude', 'longitude', 'city_or_county', 'congressional_district' ,'state_house_district','state_senate_district','address']\n",
    "df_cleaned = df.drop(columns=columns_to_drop)"
   ]
  },
  {
   "cell_type": "code",
   "execution_count": 7,
   "id": "50c5de32-72f2-4443-aa33-183507733bbf",
   "metadata": {},
   "outputs": [
    {
     "data": {
      "text/plain": [
       "incident_id                  0\n",
       "date                         0\n",
       "state                        0\n",
       "n_killed                     0\n",
       "n_injured                    0\n",
       "gun_stolen               99498\n",
       "gun_type                 99451\n",
       "n_guns_involved          99451\n",
       "participant_age          92298\n",
       "participant_age_group    42119\n",
       "participant_gender       36362\n",
       "participant_status       27626\n",
       "participant_type         24863\n",
       "dtype: int64"
      ]
     },
     "execution_count": 7,
     "metadata": {},
     "output_type": "execute_result"
    }
   ],
   "source": [
    "# missing values\n",
    "df_cleaned.isnull().sum()"
   ]
  },
  {
   "cell_type": "code",
   "execution_count": 8,
   "id": "9b56f332-921d-4a0a-93cf-67da57f15b7f",
   "metadata": {},
   "outputs": [],
   "source": [
    "# missing values in n_guns_involved means zero gun were involved. so we have to fill the emplty cells with zeros\n",
    "df_cleaned['n_guns_involved'] = df_cleaned['n_guns_involved'].fillna(0)"
   ]
  },
  {
   "cell_type": "code",
   "execution_count": 9,
   "id": "8ca3212f-dec2-40b7-9748-8664a045b1ca",
   "metadata": {},
   "outputs": [
    {
     "data": {
      "text/plain": [
       "incident_id                  0\n",
       "date                         0\n",
       "state                        0\n",
       "n_killed                     0\n",
       "n_injured                    0\n",
       "gun_stolen               99498\n",
       "gun_type                 99451\n",
       "n_guns_involved              0\n",
       "participant_age          92298\n",
       "participant_age_group    42119\n",
       "participant_gender       36362\n",
       "participant_status       27626\n",
       "participant_type         24863\n",
       "dtype: int64"
      ]
     },
     "execution_count": 9,
     "metadata": {},
     "output_type": "execute_result"
    }
   ],
   "source": [
    "# missing values\n",
    "df_cleaned.isnull().sum()"
   ]
  },
  {
   "cell_type": "code",
   "execution_count": 10,
   "id": "c55c4638-1068-4ee8-b8d9-c117940684a4",
   "metadata": {},
   "outputs": [],
   "source": [
    "# Fill missing values for categorical data with \"Unknown\"\n",
    "categorical_fill = ['gun_stolen', 'gun_type', 'participant_age_group', 'participant_gender', 'participant_status', 'participant_type', 'participant_age' ]\n",
    "for col in categorical_fill:\n",
    "    df_cleaned[col] = df_cleaned[col].fillna('Unknown')"
   ]
  },
  {
   "cell_type": "code",
   "execution_count": 11,
   "id": "a7f79f24-b553-462a-a4e0-dbb8bffd3080",
   "metadata": {},
   "outputs": [
    {
     "data": {
      "text/plain": [
       "incident_id              0\n",
       "date                     0\n",
       "state                    0\n",
       "n_killed                 0\n",
       "n_injured                0\n",
       "gun_stolen               0\n",
       "gun_type                 0\n",
       "n_guns_involved          0\n",
       "participant_age          0\n",
       "participant_age_group    0\n",
       "participant_gender       0\n",
       "participant_status       0\n",
       "participant_type         0\n",
       "dtype: int64"
      ]
     },
     "execution_count": 11,
     "metadata": {},
     "output_type": "execute_result"
    }
   ],
   "source": [
    "# Verify cleaning results\n",
    "df_cleaned.isnull().sum()"
   ]
  },
  {
   "cell_type": "code",
   "execution_count": 12,
   "id": "386f3690-44c6-4519-aea4-0c245dfc74f9",
   "metadata": {},
   "outputs": [
    {
     "data": {
      "text/html": [
       "<div>\n",
       "<style scoped>\n",
       "    .dataframe tbody tr th:only-of-type {\n",
       "        vertical-align: middle;\n",
       "    }\n",
       "\n",
       "    .dataframe tbody tr th {\n",
       "        vertical-align: top;\n",
       "    }\n",
       "\n",
       "    .dataframe thead th {\n",
       "        text-align: right;\n",
       "    }\n",
       "</style>\n",
       "<table border=\"1\" class=\"dataframe\">\n",
       "  <thead>\n",
       "    <tr style=\"text-align: right;\">\n",
       "      <th></th>\n",
       "      <th>incident_id</th>\n",
       "      <th>date</th>\n",
       "      <th>state</th>\n",
       "      <th>n_killed</th>\n",
       "      <th>n_injured</th>\n",
       "      <th>gun_stolen</th>\n",
       "      <th>gun_type</th>\n",
       "      <th>n_guns_involved</th>\n",
       "      <th>participant_age</th>\n",
       "      <th>participant_age_group</th>\n",
       "      <th>participant_gender</th>\n",
       "      <th>participant_status</th>\n",
       "      <th>participant_type</th>\n",
       "    </tr>\n",
       "  </thead>\n",
       "  <tbody>\n",
       "  </tbody>\n",
       "</table>\n",
       "</div>"
      ],
      "text/plain": [
       "Empty DataFrame\n",
       "Columns: [incident_id, date, state, n_killed, n_injured, gun_stolen, gun_type, n_guns_involved, participant_age, participant_age_group, participant_gender, participant_status, participant_type]\n",
       "Index: []"
      ]
     },
     "execution_count": 12,
     "metadata": {},
     "output_type": "execute_result"
    }
   ],
   "source": [
    "# duplicates in the df_ords dataframe\n",
    "df_cleaned[df_cleaned.duplicated()]"
   ]
  },
  {
   "cell_type": "markdown",
   "id": "ef62a722-8248-4801-a37a-e3af9563c2be",
   "metadata": {},
   "source": [
    "# No dublicate"
   ]
  },
  {
   "cell_type": "code",
   "execution_count": 13,
   "id": "766dfb34-e256-4c81-b22e-50d1ee546b4d",
   "metadata": {},
   "outputs": [
    {
     "data": {
      "text/html": [
       "<div>\n",
       "<style scoped>\n",
       "    .dataframe tbody tr th:only-of-type {\n",
       "        vertical-align: middle;\n",
       "    }\n",
       "\n",
       "    .dataframe tbody tr th {\n",
       "        vertical-align: top;\n",
       "    }\n",
       "\n",
       "    .dataframe thead th {\n",
       "        text-align: right;\n",
       "    }\n",
       "</style>\n",
       "<table border=\"1\" class=\"dataframe\">\n",
       "  <thead>\n",
       "    <tr style=\"text-align: right;\">\n",
       "      <th></th>\n",
       "      <th>incident_id</th>\n",
       "      <th>date</th>\n",
       "      <th>state</th>\n",
       "      <th>n_killed</th>\n",
       "      <th>n_injured</th>\n",
       "      <th>gun_stolen</th>\n",
       "      <th>gun_type</th>\n",
       "      <th>n_guns_involved</th>\n",
       "      <th>participant_age</th>\n",
       "      <th>participant_age_group</th>\n",
       "      <th>participant_gender</th>\n",
       "      <th>participant_status</th>\n",
       "      <th>participant_type</th>\n",
       "    </tr>\n",
       "  </thead>\n",
       "  <tbody>\n",
       "    <tr>\n",
       "      <th>0</th>\n",
       "      <td>461105</td>\n",
       "      <td>2013-01-01</td>\n",
       "      <td>Pennsylvania</td>\n",
       "      <td>0</td>\n",
       "      <td>4</td>\n",
       "      <td>Unknown</td>\n",
       "      <td>Unknown</td>\n",
       "      <td>0.0</td>\n",
       "      <td>0::20</td>\n",
       "      <td>0::Adult 18+||1::Adult 18+||2::Adult 18+||3::A...</td>\n",
       "      <td>0::Male||1::Male||3::Male||4::Female</td>\n",
       "      <td>0::Arrested||1::Injured||2::Injured||3::Injure...</td>\n",
       "      <td>0::Victim||1::Victim||2::Victim||3::Victim||4:...</td>\n",
       "    </tr>\n",
       "    <tr>\n",
       "      <th>1</th>\n",
       "      <td>460726</td>\n",
       "      <td>2013-01-01</td>\n",
       "      <td>California</td>\n",
       "      <td>1</td>\n",
       "      <td>3</td>\n",
       "      <td>Unknown</td>\n",
       "      <td>Unknown</td>\n",
       "      <td>0.0</td>\n",
       "      <td>0::20</td>\n",
       "      <td>0::Adult 18+||1::Adult 18+||2::Adult 18+||3::A...</td>\n",
       "      <td>0::Male</td>\n",
       "      <td>0::Killed||1::Injured||2::Injured||3::Injured</td>\n",
       "      <td>0::Victim||1::Victim||2::Victim||3::Victim||4:...</td>\n",
       "    </tr>\n",
       "    <tr>\n",
       "      <th>2</th>\n",
       "      <td>478855</td>\n",
       "      <td>2013-01-01</td>\n",
       "      <td>Ohio</td>\n",
       "      <td>1</td>\n",
       "      <td>3</td>\n",
       "      <td>0::Unknown||1::Unknown</td>\n",
       "      <td>0::Unknown||1::Unknown</td>\n",
       "      <td>2.0</td>\n",
       "      <td>0::25||1::31||2::33||3::34||4::33</td>\n",
       "      <td>0::Adult 18+||1::Adult 18+||2::Adult 18+||3::A...</td>\n",
       "      <td>0::Male||1::Male||2::Male||3::Male||4::Male</td>\n",
       "      <td>0::Injured, Unharmed, Arrested||1::Unharmed, A...</td>\n",
       "      <td>0::Subject-Suspect||1::Subject-Suspect||2::Vic...</td>\n",
       "    </tr>\n",
       "    <tr>\n",
       "      <th>3</th>\n",
       "      <td>478925</td>\n",
       "      <td>2013-01-05</td>\n",
       "      <td>Colorado</td>\n",
       "      <td>4</td>\n",
       "      <td>0</td>\n",
       "      <td>Unknown</td>\n",
       "      <td>Unknown</td>\n",
       "      <td>0.0</td>\n",
       "      <td>0::29||1::33||2::56||3::33</td>\n",
       "      <td>0::Adult 18+||1::Adult 18+||2::Adult 18+||3::A...</td>\n",
       "      <td>0::Female||1::Male||2::Male||3::Male</td>\n",
       "      <td>0::Killed||1::Killed||2::Killed||3::Killed</td>\n",
       "      <td>0::Victim||1::Victim||2::Victim||3::Subject-Su...</td>\n",
       "    </tr>\n",
       "    <tr>\n",
       "      <th>4</th>\n",
       "      <td>478959</td>\n",
       "      <td>2013-01-07</td>\n",
       "      <td>North Carolina</td>\n",
       "      <td>2</td>\n",
       "      <td>2</td>\n",
       "      <td>0::Unknown||1::Unknown</td>\n",
       "      <td>0::Handgun||1::Handgun</td>\n",
       "      <td>2.0</td>\n",
       "      <td>0::18||1::46||2::14||3::47</td>\n",
       "      <td>0::Adult 18+||1::Adult 18+||2::Teen 12-17||3::...</td>\n",
       "      <td>0::Female||1::Male||2::Male||3::Female</td>\n",
       "      <td>0::Injured||1::Injured||2::Killed||3::Killed</td>\n",
       "      <td>0::Victim||1::Victim||2::Victim||3::Subject-Su...</td>\n",
       "    </tr>\n",
       "  </tbody>\n",
       "</table>\n",
       "</div>"
      ],
      "text/plain": [
       "   incident_id        date           state  n_killed  n_injured  \\\n",
       "0       461105  2013-01-01    Pennsylvania         0          4   \n",
       "1       460726  2013-01-01      California         1          3   \n",
       "2       478855  2013-01-01            Ohio         1          3   \n",
       "3       478925  2013-01-05        Colorado         4          0   \n",
       "4       478959  2013-01-07  North Carolina         2          2   \n",
       "\n",
       "               gun_stolen                gun_type  n_guns_involved  \\\n",
       "0                 Unknown                 Unknown              0.0   \n",
       "1                 Unknown                 Unknown              0.0   \n",
       "2  0::Unknown||1::Unknown  0::Unknown||1::Unknown              2.0   \n",
       "3                 Unknown                 Unknown              0.0   \n",
       "4  0::Unknown||1::Unknown  0::Handgun||1::Handgun              2.0   \n",
       "\n",
       "                     participant_age  \\\n",
       "0                              0::20   \n",
       "1                              0::20   \n",
       "2  0::25||1::31||2::33||3::34||4::33   \n",
       "3         0::29||1::33||2::56||3::33   \n",
       "4         0::18||1::46||2::14||3::47   \n",
       "\n",
       "                               participant_age_group  \\\n",
       "0  0::Adult 18+||1::Adult 18+||2::Adult 18+||3::A...   \n",
       "1  0::Adult 18+||1::Adult 18+||2::Adult 18+||3::A...   \n",
       "2  0::Adult 18+||1::Adult 18+||2::Adult 18+||3::A...   \n",
       "3  0::Adult 18+||1::Adult 18+||2::Adult 18+||3::A...   \n",
       "4  0::Adult 18+||1::Adult 18+||2::Teen 12-17||3::...   \n",
       "\n",
       "                            participant_gender  \\\n",
       "0         0::Male||1::Male||3::Male||4::Female   \n",
       "1                                      0::Male   \n",
       "2  0::Male||1::Male||2::Male||3::Male||4::Male   \n",
       "3         0::Female||1::Male||2::Male||3::Male   \n",
       "4       0::Female||1::Male||2::Male||3::Female   \n",
       "\n",
       "                                  participant_status  \\\n",
       "0  0::Arrested||1::Injured||2::Injured||3::Injure...   \n",
       "1      0::Killed||1::Injured||2::Injured||3::Injured   \n",
       "2  0::Injured, Unharmed, Arrested||1::Unharmed, A...   \n",
       "3         0::Killed||1::Killed||2::Killed||3::Killed   \n",
       "4       0::Injured||1::Injured||2::Killed||3::Killed   \n",
       "\n",
       "                                    participant_type  \n",
       "0  0::Victim||1::Victim||2::Victim||3::Victim||4:...  \n",
       "1  0::Victim||1::Victim||2::Victim||3::Victim||4:...  \n",
       "2  0::Subject-Suspect||1::Subject-Suspect||2::Vic...  \n",
       "3  0::Victim||1::Victim||2::Victim||3::Subject-Su...  \n",
       "4  0::Victim||1::Victim||2::Victim||3::Subject-Su...  "
      ]
     },
     "execution_count": 13,
     "metadata": {},
     "output_type": "execute_result"
    }
   ],
   "source": [
    "df_cleaned.head()"
   ]
  },
  {
   "cell_type": "code",
   "execution_count": 14,
   "id": "e73192a8-8ed4-48f0-b54f-d6fa3b96a013",
   "metadata": {},
   "outputs": [],
   "source": [
    "# Convert the 'date' column to datetime format\n",
    "df_cleaned['date'] = pd.to_datetime(df_cleaned['date'])"
   ]
  },
  {
   "cell_type": "code",
   "execution_count": 15,
   "id": "b7d884f9-af47-4bde-88ae-f70dc5f3b48b",
   "metadata": {},
   "outputs": [
    {
     "data": {
      "text/plain": [
       "0   2013-01-01\n",
       "1   2013-01-01\n",
       "2   2013-01-01\n",
       "3   2013-01-05\n",
       "4   2013-01-07\n",
       "Name: date, dtype: datetime64[ns]"
      ]
     },
     "execution_count": 15,
     "metadata": {},
     "output_type": "execute_result"
    }
   ],
   "source": [
    "# Verify the conversion\n",
    "df_cleaned['date'].head()"
   ]
  },
  {
   "cell_type": "code",
   "execution_count": 16,
   "id": "17932d83-cb10-419b-af41-5a469e4e90b0",
   "metadata": {},
   "outputs": [
    {
     "data": {
      "text/plain": [
       "incident_id              0\n",
       "date                     0\n",
       "state                    0\n",
       "n_killed                 0\n",
       "n_injured                0\n",
       "gun_stolen               0\n",
       "gun_type                 0\n",
       "n_guns_involved          0\n",
       "participant_age          0\n",
       "participant_age_group    0\n",
       "participant_gender       0\n",
       "participant_status       0\n",
       "participant_type         0\n",
       "dtype: int64"
      ]
     },
     "execution_count": 16,
     "metadata": {},
     "output_type": "execute_result"
    }
   ],
   "source": [
    "df_cleaned.isnull().sum()"
   ]
  },
  {
   "cell_type": "code",
   "execution_count": 17,
   "id": "b26ee7b7-e4d0-45e2-a54e-c8e70225efc4",
   "metadata": {},
   "outputs": [],
   "source": [
    "unknown_rows = df_cleaned[df_cleaned['participant_type'] == 'Unknown']"
   ]
  },
  {
   "cell_type": "code",
   "execution_count": 18,
   "id": "7fad5be7-78bd-4f52-8cbd-d5b690d11dc0",
   "metadata": {},
   "outputs": [
    {
     "name": "stdout",
     "output_type": "stream",
     "text": [
      "[0]\n"
     ]
    }
   ],
   "source": [
    "unique_values = unknown_rows['n_injured'].unique()\n",
    "\n",
    "print(unique_values)"
   ]
  },
  {
   "cell_type": "code",
   "execution_count": 20,
   "id": "28ddd550-2290-4874-9e20-57d657a68e15",
   "metadata": {},
   "outputs": [],
   "source": [
    "import re"
   ]
  },
  {
   "cell_type": "code",
   "execution_count": 21,
   "id": "e292fe5a-3683-4ca7-a1e8-d73dd4e6bd67",
   "metadata": {},
   "outputs": [],
   "source": [
    "def count_occurrences(s, pattern):\n",
    "    return len(re.findall(pattern, s))\n",
    "\n",
    "# Add new columns for counting occurrences of \"Victim\" and \"Subject-Suspect\"\n",
    "df_cleaned['n_victims'] = df_cleaned['participant_type'].apply(lambda x: count_occurrences(x, r\"Victim\"))\n",
    "df_cleaned['n_suspects'] = df_cleaned['participant_type'].apply(lambda x: count_occurrences(x, r\"Subject-Suspect\"))"
   ]
  },
  {
   "cell_type": "code",
   "execution_count": 22,
   "id": "b353ec1e-76a7-42f2-bcf7-7c5454a17fc1",
   "metadata": {},
   "outputs": [
    {
     "data": {
      "text/plain": [
       "incident_id              0\n",
       "date                     0\n",
       "state                    0\n",
       "n_killed                 0\n",
       "n_injured                0\n",
       "gun_stolen               0\n",
       "gun_type                 0\n",
       "n_guns_involved          0\n",
       "participant_age          0\n",
       "participant_age_group    0\n",
       "participant_gender       0\n",
       "participant_status       0\n",
       "participant_type         0\n",
       "n_victims                0\n",
       "n_suspects               0\n",
       "dtype: int64"
      ]
     },
     "execution_count": 22,
     "metadata": {},
     "output_type": "execute_result"
    }
   ],
   "source": [
    "df_cleaned.isnull().sum()"
   ]
  },
  {
   "cell_type": "code",
   "execution_count": 23,
   "id": "23aca500-503f-411a-83ed-6bbbf5c93edd",
   "metadata": {},
   "outputs": [],
   "source": [
    "df_cleaned.drop(columns=['participant_status', 'participant_type', 'participant_gender', 'participant_age_group' , 'participant_age'], inplace=True)"
   ]
  },
  {
   "cell_type": "code",
   "execution_count": 24,
   "id": "9a851a2f-bd14-4099-ad7f-1254b1901bb4",
   "metadata": {},
   "outputs": [
    {
     "data": {
      "text/plain": [
       "Index(['incident_id', 'date', 'state', 'n_killed', 'n_injured', 'gun_stolen',\n",
       "       'gun_type', 'n_guns_involved', 'n_victims', 'n_suspects'],\n",
       "      dtype='object')"
      ]
     },
     "execution_count": 24,
     "metadata": {},
     "output_type": "execute_result"
    }
   ],
   "source": [
    "df_cleaned.columns"
   ]
  },
  {
   "cell_type": "code",
   "execution_count": 25,
   "id": "e17ea946-0f16-4785-8221-15ac45b4a46f",
   "metadata": {},
   "outputs": [
    {
     "data": {
      "text/html": [
       "<div>\n",
       "<style scoped>\n",
       "    .dataframe tbody tr th:only-of-type {\n",
       "        vertical-align: middle;\n",
       "    }\n",
       "\n",
       "    .dataframe tbody tr th {\n",
       "        vertical-align: top;\n",
       "    }\n",
       "\n",
       "    .dataframe thead th {\n",
       "        text-align: right;\n",
       "    }\n",
       "</style>\n",
       "<table border=\"1\" class=\"dataframe\">\n",
       "  <thead>\n",
       "    <tr style=\"text-align: right;\">\n",
       "      <th></th>\n",
       "      <th>incident_id</th>\n",
       "      <th>date</th>\n",
       "      <th>state</th>\n",
       "      <th>n_killed</th>\n",
       "      <th>n_injured</th>\n",
       "      <th>gun_stolen</th>\n",
       "      <th>gun_type</th>\n",
       "      <th>n_guns_involved</th>\n",
       "      <th>n_victims</th>\n",
       "      <th>n_suspects</th>\n",
       "    </tr>\n",
       "  </thead>\n",
       "  <tbody>\n",
       "    <tr>\n",
       "      <th>0</th>\n",
       "      <td>461105</td>\n",
       "      <td>2013-01-01</td>\n",
       "      <td>Pennsylvania</td>\n",
       "      <td>0</td>\n",
       "      <td>4</td>\n",
       "      <td>Unknown</td>\n",
       "      <td>Unknown</td>\n",
       "      <td>0.0</td>\n",
       "      <td>4</td>\n",
       "      <td>1</td>\n",
       "    </tr>\n",
       "    <tr>\n",
       "      <th>1</th>\n",
       "      <td>460726</td>\n",
       "      <td>2013-01-01</td>\n",
       "      <td>California</td>\n",
       "      <td>1</td>\n",
       "      <td>3</td>\n",
       "      <td>Unknown</td>\n",
       "      <td>Unknown</td>\n",
       "      <td>0.0</td>\n",
       "      <td>4</td>\n",
       "      <td>1</td>\n",
       "    </tr>\n",
       "    <tr>\n",
       "      <th>2</th>\n",
       "      <td>478855</td>\n",
       "      <td>2013-01-01</td>\n",
       "      <td>Ohio</td>\n",
       "      <td>1</td>\n",
       "      <td>3</td>\n",
       "      <td>0::Unknown||1::Unknown</td>\n",
       "      <td>0::Unknown||1::Unknown</td>\n",
       "      <td>2.0</td>\n",
       "      <td>3</td>\n",
       "      <td>2</td>\n",
       "    </tr>\n",
       "    <tr>\n",
       "      <th>3</th>\n",
       "      <td>478925</td>\n",
       "      <td>2013-01-05</td>\n",
       "      <td>Colorado</td>\n",
       "      <td>4</td>\n",
       "      <td>0</td>\n",
       "      <td>Unknown</td>\n",
       "      <td>Unknown</td>\n",
       "      <td>0.0</td>\n",
       "      <td>3</td>\n",
       "      <td>1</td>\n",
       "    </tr>\n",
       "    <tr>\n",
       "      <th>4</th>\n",
       "      <td>478959</td>\n",
       "      <td>2013-01-07</td>\n",
       "      <td>North Carolina</td>\n",
       "      <td>2</td>\n",
       "      <td>2</td>\n",
       "      <td>0::Unknown||1::Unknown</td>\n",
       "      <td>0::Handgun||1::Handgun</td>\n",
       "      <td>2.0</td>\n",
       "      <td>3</td>\n",
       "      <td>1</td>\n",
       "    </tr>\n",
       "  </tbody>\n",
       "</table>\n",
       "</div>"
      ],
      "text/plain": [
       "   incident_id       date           state  n_killed  n_injured  \\\n",
       "0       461105 2013-01-01    Pennsylvania         0          4   \n",
       "1       460726 2013-01-01      California         1          3   \n",
       "2       478855 2013-01-01            Ohio         1          3   \n",
       "3       478925 2013-01-05        Colorado         4          0   \n",
       "4       478959 2013-01-07  North Carolina         2          2   \n",
       "\n",
       "               gun_stolen                gun_type  n_guns_involved  n_victims  \\\n",
       "0                 Unknown                 Unknown              0.0          4   \n",
       "1                 Unknown                 Unknown              0.0          4   \n",
       "2  0::Unknown||1::Unknown  0::Unknown||1::Unknown              2.0          3   \n",
       "3                 Unknown                 Unknown              0.0          3   \n",
       "4  0::Unknown||1::Unknown  0::Handgun||1::Handgun              2.0          3   \n",
       "\n",
       "   n_suspects  \n",
       "0           1  \n",
       "1           1  \n",
       "2           2  \n",
       "3           1  \n",
       "4           1  "
      ]
     },
     "execution_count": 25,
     "metadata": {},
     "output_type": "execute_result"
    }
   ],
   "source": [
    "df_cleaned.head()"
   ]
  },
  {
   "cell_type": "markdown",
   "id": "a4411fd9-3c53-4f62-83dd-8a05d44a9f06",
   "metadata": {},
   "source": [
    "# Exporting data"
   ]
  },
  {
   "cell_type": "code",
   "execution_count": 26,
   "id": "6fe71553-f90f-407a-9cd7-29169fc7a74e",
   "metadata": {},
   "outputs": [],
   "source": [
    "# Export the cleaned DataFrame to a new CSV file\n",
    "output_path = r\"C:\\Users\\User\\Downloads\\df_cleaned.csv\"\n",
    "df_cleaned.to_csv(output_path, index=False)"
   ]
  },
  {
   "cell_type": "markdown",
   "id": "2711fba1-fc18-4c59-a3f6-dd8356d6ec90",
   "metadata": {},
   "source": [
    "# Data cleaning"
   ]
  },
  {
   "cell_type": "code",
   "execution_count": 27,
   "id": "be4393bb-8ee9-4093-b030-fdbbbcf79ddf",
   "metadata": {},
   "outputs": [
    {
     "data": {
      "text/plain": [
       "incident_id                      int64\n",
       "date                            object\n",
       "state                           object\n",
       "city_or_county                  object\n",
       "address                         object\n",
       "n_killed                         int64\n",
       "n_injured                        int64\n",
       "incident_url                    object\n",
       "source_url                      object\n",
       "incident_url_fields_missing       bool\n",
       "congressional_district         float64\n",
       "gun_stolen                      object\n",
       "gun_type                        object\n",
       "incident_characteristics        object\n",
       "latitude                       float64\n",
       "location_description            object\n",
       "longitude                      float64\n",
       "n_guns_involved                float64\n",
       "notes                           object\n",
       "participant_age                 object\n",
       "participant_age_group           object\n",
       "participant_gender              object\n",
       "participant_name                object\n",
       "participant_relationship        object\n",
       "participant_status              object\n",
       "participant_type                object\n",
       "sources                         object\n",
       "state_house_district           float64\n",
       "state_senate_district          float64\n",
       "dtype: object"
      ]
     },
     "execution_count": 27,
     "metadata": {},
     "output_type": "execute_result"
    }
   ],
   "source": [
    "#As these graphs can only work with continuous variables, I need to ensure that all relevant columns have a numerical\n",
    "#data type that is compatible with the heatmap, scatterplot and other plots.\n",
    "df.dtypes"
   ]
  },
  {
   "cell_type": "code",
   "execution_count": null,
   "id": "169d33d7-2d7e-4b4d-a1d8-9c63c8df64fb",
   "metadata": {},
   "outputs": [],
   "source": []
  }
 ],
 "metadata": {
  "kernelspec": {
   "display_name": "Python 3 (ipykernel)",
   "language": "python",
   "name": "python3"
  },
  "language_info": {
   "codemirror_mode": {
    "name": "ipython",
    "version": 3
   },
   "file_extension": ".py",
   "mimetype": "text/x-python",
   "name": "python",
   "nbconvert_exporter": "python",
   "pygments_lexer": "ipython3",
   "version": "3.12.7"
  }
 },
 "nbformat": 4,
 "nbformat_minor": 5
}
